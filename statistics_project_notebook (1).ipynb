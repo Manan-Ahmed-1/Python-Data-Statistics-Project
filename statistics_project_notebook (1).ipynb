{
  "cells": [
    {
      "cell_type": "markdown",
      "id": "ba9d07e1",
      "metadata": {
        "id": "ba9d07e1"
      },
      "source": [
        "# 📊 Real-World Statistics Project\n",
        "\n",
        "This notebook will help you practice:\n",
        "- Visualizing distributions\n",
        "- Z-Test, T-Test, ANOVA, F-Test\n",
        "- Using your real-world dataset"
      ]
    },
    {
      "cell_type": "code",
      "execution_count": null,
      "id": "33598747",
      "metadata": {
        "colab": {
          "base_uri": "https://localhost:8080/",
          "height": 206
        },
        "id": "33598747",
        "outputId": "3d464277-9757-44be-8a05-0bbb4de67357"
      },
      "outputs": [
        {
          "output_type": "execute_result",
          "data": {
            "text/plain": [
              "  Employee_ID  Completed_Training  Deals_Closed  Customer_Complaints  \\\n",
              "0       E0001                   1             7                    1   \n",
              "1       E0002                   0             6                    1   \n",
              "2       E0003                   0             4                    2   \n",
              "3       E0004                   1             5                    3   \n",
              "4       E0005                   1             7                    2   \n",
              "\n",
              "   Sales_Revenue  Cust_Satisfaction Region      Group  Height_cm  \n",
              "0        5352.42                1.6      C  Treatment      165.7  \n",
              "1        6327.09                5.0      A    Control      164.6  \n",
              "2        5670.37                4.7      D    Control      176.3  \n",
              "3        6616.84                3.2      B    Control      165.5  \n",
              "4        6724.46                4.4      C  Treatment      180.2  "
            ],
            "text/html": [
              "\n",
              "  <div id=\"df-e0f4baee-7182-4a20-9862-694ab1d83ab7\" class=\"colab-df-container\">\n",
              "    <div>\n",
              "<style scoped>\n",
              "    .dataframe tbody tr th:only-of-type {\n",
              "        vertical-align: middle;\n",
              "    }\n",
              "\n",
              "    .dataframe tbody tr th {\n",
              "        vertical-align: top;\n",
              "    }\n",
              "\n",
              "    .dataframe thead th {\n",
              "        text-align: right;\n",
              "    }\n",
              "</style>\n",
              "<table border=\"1\" class=\"dataframe\">\n",
              "  <thead>\n",
              "    <tr style=\"text-align: right;\">\n",
              "      <th></th>\n",
              "      <th>Employee_ID</th>\n",
              "      <th>Completed_Training</th>\n",
              "      <th>Deals_Closed</th>\n",
              "      <th>Customer_Complaints</th>\n",
              "      <th>Sales_Revenue</th>\n",
              "      <th>Cust_Satisfaction</th>\n",
              "      <th>Region</th>\n",
              "      <th>Group</th>\n",
              "      <th>Height_cm</th>\n",
              "    </tr>\n",
              "  </thead>\n",
              "  <tbody>\n",
              "    <tr>\n",
              "      <th>0</th>\n",
              "      <td>E0001</td>\n",
              "      <td>1</td>\n",
              "      <td>7</td>\n",
              "      <td>1</td>\n",
              "      <td>5352.42</td>\n",
              "      <td>1.6</td>\n",
              "      <td>C</td>\n",
              "      <td>Treatment</td>\n",
              "      <td>165.7</td>\n",
              "    </tr>\n",
              "    <tr>\n",
              "      <th>1</th>\n",
              "      <td>E0002</td>\n",
              "      <td>0</td>\n",
              "      <td>6</td>\n",
              "      <td>1</td>\n",
              "      <td>6327.09</td>\n",
              "      <td>5.0</td>\n",
              "      <td>A</td>\n",
              "      <td>Control</td>\n",
              "      <td>164.6</td>\n",
              "    </tr>\n",
              "    <tr>\n",
              "      <th>2</th>\n",
              "      <td>E0003</td>\n",
              "      <td>0</td>\n",
              "      <td>4</td>\n",
              "      <td>2</td>\n",
              "      <td>5670.37</td>\n",
              "      <td>4.7</td>\n",
              "      <td>D</td>\n",
              "      <td>Control</td>\n",
              "      <td>176.3</td>\n",
              "    </tr>\n",
              "    <tr>\n",
              "      <th>3</th>\n",
              "      <td>E0004</td>\n",
              "      <td>1</td>\n",
              "      <td>5</td>\n",
              "      <td>3</td>\n",
              "      <td>6616.84</td>\n",
              "      <td>3.2</td>\n",
              "      <td>B</td>\n",
              "      <td>Control</td>\n",
              "      <td>165.5</td>\n",
              "    </tr>\n",
              "    <tr>\n",
              "      <th>4</th>\n",
              "      <td>E0005</td>\n",
              "      <td>1</td>\n",
              "      <td>7</td>\n",
              "      <td>2</td>\n",
              "      <td>6724.46</td>\n",
              "      <td>4.4</td>\n",
              "      <td>C</td>\n",
              "      <td>Treatment</td>\n",
              "      <td>180.2</td>\n",
              "    </tr>\n",
              "  </tbody>\n",
              "</table>\n",
              "</div>\n",
              "    <div class=\"colab-df-buttons\">\n",
              "\n",
              "  <div class=\"colab-df-container\">\n",
              "    <button class=\"colab-df-convert\" onclick=\"convertToInteractive('df-e0f4baee-7182-4a20-9862-694ab1d83ab7')\"\n",
              "            title=\"Convert this dataframe to an interactive table.\"\n",
              "            style=\"display:none;\">\n",
              "\n",
              "  <svg xmlns=\"http://www.w3.org/2000/svg\" height=\"24px\" viewBox=\"0 -960 960 960\">\n",
              "    <path d=\"M120-120v-720h720v720H120Zm60-500h600v-160H180v160Zm220 220h160v-160H400v160Zm0 220h160v-160H400v160ZM180-400h160v-160H180v160Zm440 0h160v-160H620v160ZM180-180h160v-160H180v160Zm440 0h160v-160H620v160Z\"/>\n",
              "  </svg>\n",
              "    </button>\n",
              "\n",
              "  <style>\n",
              "    .colab-df-container {\n",
              "      display:flex;\n",
              "      gap: 12px;\n",
              "    }\n",
              "\n",
              "    .colab-df-convert {\n",
              "      background-color: #E8F0FE;\n",
              "      border: none;\n",
              "      border-radius: 50%;\n",
              "      cursor: pointer;\n",
              "      display: none;\n",
              "      fill: #1967D2;\n",
              "      height: 32px;\n",
              "      padding: 0 0 0 0;\n",
              "      width: 32px;\n",
              "    }\n",
              "\n",
              "    .colab-df-convert:hover {\n",
              "      background-color: #E2EBFA;\n",
              "      box-shadow: 0px 1px 2px rgba(60, 64, 67, 0.3), 0px 1px 3px 1px rgba(60, 64, 67, 0.15);\n",
              "      fill: #174EA6;\n",
              "    }\n",
              "\n",
              "    .colab-df-buttons div {\n",
              "      margin-bottom: 4px;\n",
              "    }\n",
              "\n",
              "    [theme=dark] .colab-df-convert {\n",
              "      background-color: #3B4455;\n",
              "      fill: #D2E3FC;\n",
              "    }\n",
              "\n",
              "    [theme=dark] .colab-df-convert:hover {\n",
              "      background-color: #434B5C;\n",
              "      box-shadow: 0px 1px 3px 1px rgba(0, 0, 0, 0.15);\n",
              "      filter: drop-shadow(0px 1px 2px rgba(0, 0, 0, 0.3));\n",
              "      fill: #FFFFFF;\n",
              "    }\n",
              "  </style>\n",
              "\n",
              "    <script>\n",
              "      const buttonEl =\n",
              "        document.querySelector('#df-e0f4baee-7182-4a20-9862-694ab1d83ab7 button.colab-df-convert');\n",
              "      buttonEl.style.display =\n",
              "        google.colab.kernel.accessAllowed ? 'block' : 'none';\n",
              "\n",
              "      async function convertToInteractive(key) {\n",
              "        const element = document.querySelector('#df-e0f4baee-7182-4a20-9862-694ab1d83ab7');\n",
              "        const dataTable =\n",
              "          await google.colab.kernel.invokeFunction('convertToInteractive',\n",
              "                                                    [key], {});\n",
              "        if (!dataTable) return;\n",
              "\n",
              "        const docLinkHtml = 'Like what you see? Visit the ' +\n",
              "          '<a target=\"_blank\" href=https://colab.research.google.com/notebooks/data_table.ipynb>data table notebook</a>'\n",
              "          + ' to learn more about interactive tables.';\n",
              "        element.innerHTML = '';\n",
              "        dataTable['output_type'] = 'display_data';\n",
              "        await google.colab.output.renderOutput(dataTable, element);\n",
              "        const docLink = document.createElement('div');\n",
              "        docLink.innerHTML = docLinkHtml;\n",
              "        element.appendChild(docLink);\n",
              "      }\n",
              "    </script>\n",
              "  </div>\n",
              "\n",
              "\n",
              "    <div id=\"df-f9257c9c-30a6-460b-b0a0-66f60a83bd30\">\n",
              "      <button class=\"colab-df-quickchart\" onclick=\"quickchart('df-f9257c9c-30a6-460b-b0a0-66f60a83bd30')\"\n",
              "                title=\"Suggest charts\"\n",
              "                style=\"display:none;\">\n",
              "\n",
              "<svg xmlns=\"http://www.w3.org/2000/svg\" height=\"24px\"viewBox=\"0 0 24 24\"\n",
              "     width=\"24px\">\n",
              "    <g>\n",
              "        <path d=\"M19 3H5c-1.1 0-2 .9-2 2v14c0 1.1.9 2 2 2h14c1.1 0 2-.9 2-2V5c0-1.1-.9-2-2-2zM9 17H7v-7h2v7zm4 0h-2V7h2v10zm4 0h-2v-4h2v4z\"/>\n",
              "    </g>\n",
              "</svg>\n",
              "      </button>\n",
              "\n",
              "<style>\n",
              "  .colab-df-quickchart {\n",
              "      --bg-color: #E8F0FE;\n",
              "      --fill-color: #1967D2;\n",
              "      --hover-bg-color: #E2EBFA;\n",
              "      --hover-fill-color: #174EA6;\n",
              "      --disabled-fill-color: #AAA;\n",
              "      --disabled-bg-color: #DDD;\n",
              "  }\n",
              "\n",
              "  [theme=dark] .colab-df-quickchart {\n",
              "      --bg-color: #3B4455;\n",
              "      --fill-color: #D2E3FC;\n",
              "      --hover-bg-color: #434B5C;\n",
              "      --hover-fill-color: #FFFFFF;\n",
              "      --disabled-bg-color: #3B4455;\n",
              "      --disabled-fill-color: #666;\n",
              "  }\n",
              "\n",
              "  .colab-df-quickchart {\n",
              "    background-color: var(--bg-color);\n",
              "    border: none;\n",
              "    border-radius: 50%;\n",
              "    cursor: pointer;\n",
              "    display: none;\n",
              "    fill: var(--fill-color);\n",
              "    height: 32px;\n",
              "    padding: 0;\n",
              "    width: 32px;\n",
              "  }\n",
              "\n",
              "  .colab-df-quickchart:hover {\n",
              "    background-color: var(--hover-bg-color);\n",
              "    box-shadow: 0 1px 2px rgba(60, 64, 67, 0.3), 0 1px 3px 1px rgba(60, 64, 67, 0.15);\n",
              "    fill: var(--button-hover-fill-color);\n",
              "  }\n",
              "\n",
              "  .colab-df-quickchart-complete:disabled,\n",
              "  .colab-df-quickchart-complete:disabled:hover {\n",
              "    background-color: var(--disabled-bg-color);\n",
              "    fill: var(--disabled-fill-color);\n",
              "    box-shadow: none;\n",
              "  }\n",
              "\n",
              "  .colab-df-spinner {\n",
              "    border: 2px solid var(--fill-color);\n",
              "    border-color: transparent;\n",
              "    border-bottom-color: var(--fill-color);\n",
              "    animation:\n",
              "      spin 1s steps(1) infinite;\n",
              "  }\n",
              "\n",
              "  @keyframes spin {\n",
              "    0% {\n",
              "      border-color: transparent;\n",
              "      border-bottom-color: var(--fill-color);\n",
              "      border-left-color: var(--fill-color);\n",
              "    }\n",
              "    20% {\n",
              "      border-color: transparent;\n",
              "      border-left-color: var(--fill-color);\n",
              "      border-top-color: var(--fill-color);\n",
              "    }\n",
              "    30% {\n",
              "      border-color: transparent;\n",
              "      border-left-color: var(--fill-color);\n",
              "      border-top-color: var(--fill-color);\n",
              "      border-right-color: var(--fill-color);\n",
              "    }\n",
              "    40% {\n",
              "      border-color: transparent;\n",
              "      border-right-color: var(--fill-color);\n",
              "      border-top-color: var(--fill-color);\n",
              "    }\n",
              "    60% {\n",
              "      border-color: transparent;\n",
              "      border-right-color: var(--fill-color);\n",
              "    }\n",
              "    80% {\n",
              "      border-color: transparent;\n",
              "      border-right-color: var(--fill-color);\n",
              "      border-bottom-color: var(--fill-color);\n",
              "    }\n",
              "    90% {\n",
              "      border-color: transparent;\n",
              "      border-bottom-color: var(--fill-color);\n",
              "    }\n",
              "  }\n",
              "</style>\n",
              "\n",
              "      <script>\n",
              "        async function quickchart(key) {\n",
              "          const quickchartButtonEl =\n",
              "            document.querySelector('#' + key + ' button');\n",
              "          quickchartButtonEl.disabled = true;  // To prevent multiple clicks.\n",
              "          quickchartButtonEl.classList.add('colab-df-spinner');\n",
              "          try {\n",
              "            const charts = await google.colab.kernel.invokeFunction(\n",
              "                'suggestCharts', [key], {});\n",
              "          } catch (error) {\n",
              "            console.error('Error during call to suggestCharts:', error);\n",
              "          }\n",
              "          quickchartButtonEl.classList.remove('colab-df-spinner');\n",
              "          quickchartButtonEl.classList.add('colab-df-quickchart-complete');\n",
              "        }\n",
              "        (() => {\n",
              "          let quickchartButtonEl =\n",
              "            document.querySelector('#df-f9257c9c-30a6-460b-b0a0-66f60a83bd30 button');\n",
              "          quickchartButtonEl.style.display =\n",
              "            google.colab.kernel.accessAllowed ? 'block' : 'none';\n",
              "        })();\n",
              "      </script>\n",
              "    </div>\n",
              "\n",
              "    </div>\n",
              "  </div>\n"
            ],
            "application/vnd.google.colaboratory.intrinsic+json": {
              "type": "dataframe",
              "variable_name": "df",
              "summary": "{\n  \"name\": \"df\",\n  \"rows\": 200,\n  \"fields\": [\n    {\n      \"column\": \"Employee_ID\",\n      \"properties\": {\n        \"dtype\": \"string\",\n        \"num_unique_values\": 200,\n        \"samples\": [\n          \"E0096\",\n          \"E0016\",\n          \"E0031\"\n        ],\n        \"semantic_type\": \"\",\n        \"description\": \"\"\n      }\n    },\n    {\n      \"column\": \"Completed_Training\",\n      \"properties\": {\n        \"dtype\": \"number\",\n        \"std\": 0,\n        \"min\": 0,\n        \"max\": 1,\n        \"num_unique_values\": 2,\n        \"samples\": [\n          0,\n          1\n        ],\n        \"semantic_type\": \"\",\n        \"description\": \"\"\n      }\n    },\n    {\n      \"column\": \"Deals_Closed\",\n      \"properties\": {\n        \"dtype\": \"number\",\n        \"std\": 2,\n        \"min\": 1,\n        \"max\": 10,\n        \"num_unique_values\": 10,\n        \"samples\": [\n          8,\n          6\n        ],\n        \"semantic_type\": \"\",\n        \"description\": \"\"\n      }\n    },\n    {\n      \"column\": \"Customer_Complaints\",\n      \"properties\": {\n        \"dtype\": \"number\",\n        \"std\": 1,\n        \"min\": 0,\n        \"max\": 8,\n        \"num_unique_values\": 9,\n        \"samples\": [\n          6,\n          2\n        ],\n        \"semantic_type\": \"\",\n        \"description\": \"\"\n      }\n    },\n    {\n      \"column\": \"Sales_Revenue\",\n      \"properties\": {\n        \"dtype\": \"number\",\n        \"std\": 695.8665457365181,\n        \"min\": 4349.54,\n        \"max\": 7868.88,\n        \"num_unique_values\": 200,\n        \"samples\": [\n          6762.58,\n          6789.86\n        ],\n        \"semantic_type\": \"\",\n        \"description\": \"\"\n      }\n    },\n    {\n      \"column\": \"Cust_Satisfaction\",\n      \"properties\": {\n        \"dtype\": \"number\",\n        \"std\": 1.2008054248468853,\n        \"min\": 1.0,\n        \"max\": 5.0,\n        \"num_unique_values\": 41,\n        \"samples\": [\n          4.2,\n          1.1\n        ],\n        \"semantic_type\": \"\",\n        \"description\": \"\"\n      }\n    },\n    {\n      \"column\": \"Region\",\n      \"properties\": {\n        \"dtype\": \"category\",\n        \"num_unique_values\": 4,\n        \"samples\": [\n          \"A\",\n          \"B\"\n        ],\n        \"semantic_type\": \"\",\n        \"description\": \"\"\n      }\n    },\n    {\n      \"column\": \"Group\",\n      \"properties\": {\n        \"dtype\": \"category\",\n        \"num_unique_values\": 2,\n        \"samples\": [\n          \"Control\",\n          \"Treatment\"\n        ],\n        \"semantic_type\": \"\",\n        \"description\": \"\"\n      }\n    },\n    {\n      \"column\": \"Height_cm\",\n      \"properties\": {\n        \"dtype\": \"number\",\n        \"std\": 9.487842313128628,\n        \"min\": 146.0,\n        \"max\": 196.9,\n        \"num_unique_values\": 151,\n        \"samples\": [\n          173.5,\n          170.7\n        ],\n        \"semantic_type\": \"\",\n        \"description\": \"\"\n      }\n    }\n  ]\n}"
            }
          },
          "metadata": {},
          "execution_count": 1
        }
      ],
      "source": [
        "\n",
        "import pandas as pd\n",
        "import numpy as np\n",
        "import matplotlib.pyplot as plt\n",
        "import seaborn as sns\n",
        "from scipy import stats\n",
        "\n",
        "# Load dataset\n",
        "df = pd.read_excel('real_world_statistics_dataset.xlsx')\n",
        "df.head()\n"
      ]
    },
    {
      "cell_type": "markdown",
      "id": "c4982b60",
      "metadata": {
        "id": "c4982b60"
      },
      "source": [
        "## 🔎 Visualize Distributions"
      ]
    },
    {
      "cell_type": "code",
      "execution_count": null,
      "id": "2d07b7d3",
      "metadata": {
        "colab": {
          "base_uri": "https://localhost:8080/",
          "height": 1000
        },
        "id": "2d07b7d3",
        "outputId": "9a4953c6-75ec-4167-cf62-f10e7906d7e7"
      },
      "outputs": [
        {
          "output_type": "display_data",
          "data": {
            "text/plain": [
              "<Figure size 640x480 with 1 Axes>"
            ],
            "image/png": "[encoded data removed]"
          },
          "metadata": {}
        },
        {
          "output_type": "display_data",
          "data": {
            "text/plain": [
              "<Figure size 640x480 with 1 Axes>"
            ],
            "image/png": "[encoded data removed]"
          },
          "metadata": {}
        },
        {
          "output_type": "display_data",
          "data": {
            "text/plain": [
              "<Figure size 640x480 with 1 Axes>"
            ],
            "image/png": "[encoded data removed]"
          },
          "metadata": {}
        }
      ],
      "source": [
        "\n",
        "# Histogram: Sales Revenue\n",
        "sns.histplot(df['Sales_Revenue'], kde=True)\n",
        "plt.title('Sales Revenue Distribution')\n",
        "plt.show()\n",
        "\n",
        "# Deals Closed Distribution\n",
        "sns.histplot(df['Deals_Closed'], bins=10, kde=False)\n",
        "plt.title('Deals Closed Distribution')\n",
        "plt.show()\n",
        "\n",
        "# Customer Satisfaction (Uniform)\n",
        "sns.histplot(df['Cust_Satisfaction'], bins=5)\n",
        "plt.title('Customer Satisfaction Scores')\n",
        "plt.show()\n"
      ]
    },
    {
      "cell_type": "markdown",
      "id": "6ebb869a",
      "metadata": {
        "id": "6ebb869a"
      },
      "source": [
        "## 📏 Z-Test Example: Are employee heights above 170cm?"
      ]
    },
    {
      "cell_type": "code",
      "execution_count": null,
      "id": "394b2f6e",
      "metadata": {
        "colab": {
          "base_uri": "https://localhost:8080/"
        },
        "id": "394b2f6e",
        "outputId": "d19b59ff-42fe-4236-d80d-d7232db1b480"
      },
      "outputs": [
        {
          "output_type": "stream",
          "name": "stdout",
          "text": [
            "Z-Score: 1.19\n",
            "P-Value: 0.1180\n"
          ]
        }
      ],
      "source": [
        "\n",
        "# Sample data\n",
        "sample_mean = df['Height_cm'].mean()\n",
        "n = len(df)\n",
        "\n",
        "# Population parameters\n",
        "pop_mean = 170   # Population mean (μ)\n",
        "pop_std_dev = 10  # Population standard deviation (σ) — assumed known\n",
        "\n",
        "# Z-Score calculation using population std dev\n",
        "z_score = (sample_mean - pop_mean) / (pop_std_dev / np.sqrt(n))\n",
        "\n",
        "# P-value (for one-tailed test)\n",
        "p_value = 1 - stats.norm.cdf(z_score)\n",
        "\n",
        "print(f\"Z-Score: {z_score:.2f}\")\n",
        "print(f\"P-Value: {p_value:.4f}\")"
      ]
    },
    {
      "cell_type": "markdown",
      "id": "5e3e86c6",
      "metadata": {
        "id": "5e3e86c6"
      },
      "source": [
        "## ✅ T-Test: Compare Sales Revenue between Control vs Treatment"
      ]
    },
    {
      "cell_type": "code",
      "execution_count": null,
      "id": "7e4d86f6",
      "metadata": {
        "colab": {
          "base_uri": "https://localhost:8080/"
        },
        "id": "7e4d86f6",
        "outputId": "aaff5e20-654e-41b6-a179-f593301e010a"
      },
      "outputs": [
        {
          "output_type": "stream",
          "name": "stdout",
          "text": [
            "T-Statistic: -1.15\n",
            "P-Value: 0.2501\n"
          ]
        }
      ],
      "source": [
        "\n",
        "control = df[df['Group'] == 'Control']['Sales_Revenue']\n",
        "treatment = df[df['Group'] == 'Treatment']['Sales_Revenue']\n",
        "\n",
        "t_stat, p_val = stats.ttest_ind(control, treatment)\n",
        "\n",
        "print(f\"T-Statistic: {t_stat:.2f}\")\n",
        "print(f\"P-Value: {p_val:.4f}\")\n"
      ]
    },
    {
      "cell_type": "markdown",
      "id": "5b54b817",
      "metadata": {
        "id": "5b54b817"
      },
      "source": [
        "## 🏆 ANOVA: Compare Sales Revenue across Regions"
      ]
    },
    {
      "cell_type": "code",
      "execution_count": null,
      "id": "90696f77",
      "metadata": {
        "colab": {
          "base_uri": "https://localhost:8080/"
        },
        "id": "90696f77",
        "outputId": "857ad534-2a20-434a-d58a-0a57bd182d14"
      },
      "outputs": [
        {
          "output_type": "stream",
          "name": "stdout",
          "text": [
            "F-Statistic: 2.22\n",
            "P-Value: 0.0874\n"
          ]
        }
      ],
      "source": [
        "\n",
        "anova = stats.f_oneway(\n",
        "    df[df['Region'] == 'A']['Sales_Revenue'],\n",
        "    df[df['Region'] == 'B']['Sales_Revenue'],\n",
        "    df[df['Region'] == 'C']['Sales_Revenue'],\n",
        "    df[df['Region'] == 'D']['Sales_Revenue']\n",
        ")\n",
        "\n",
        "print(f\"F-Statistic: {anova.statistic:.2f}\")\n",
        "print(f\"P-Value: {anova.pvalue:.4f}\")\n"
      ]
    },
    {
      "cell_type": "markdown",
      "id": "f3ff0600",
      "metadata": {
        "id": "f3ff0600"
      },
      "source": [
        "## 🔥 F-Test: Test variance between Deals Closed in Region A vs B"
      ]
    },
    {
      "cell_type": "code",
      "execution_count": null,
      "id": "d5173c19",
      "metadata": {
        "colab": {
          "base_uri": "https://localhost:8080/"
        },
        "id": "d5173c19",
        "outputId": "7140ffe0-4eb0-424e-eb46-99bcdff8624e"
      },
      "outputs": [
        {
          "output_type": "stream",
          "name": "stdout",
          "text": [
            "F-Statistic: 0.98\n",
            "P-Value: 0.5211\n"
          ]
        }
      ],
      "source": [
        "\n",
        "region_a = df[df['Region'] == 'A']['Deals_Closed']\n",
        "region_b = df[df['Region'] == 'B']['Deals_Closed']\n",
        "\n",
        "f_stat = np.var(region_a, ddof=1) / np.var(region_b, ddof=1)\n",
        "dof1 = len(region_a) - 1\n",
        "dof2 = len(region_b) - 1\n",
        "\n",
        "p_val_f = 1 - stats.f.cdf(f_stat, dof1, dof2)\n",
        "\n",
        "print(f\"F-Statistic: {f_stat:.2f}\")\n",
        "print(f\"P-Value: {p_val_f:.4f}\")\n"
      ]
    },
    {
      "cell_type": "code",
      "source": [
        "## 🎯 Chi-Square Test: Are Region and Group independent?\n",
        "\n",
        "# Create contingency table\n",
        "contingency = pd.crosstab(df['Region'], df['Group'])\n",
        "print(\"Contingency Table:\\n\", contingency)\n",
        "\n",
        "# Chi-Square Test\n",
        "chi2_stat, p_val_chi, dof, expected = stats.chi2_contingency(contingency)\n",
        "\n",
        "print(f\"\\nChi2 Statistic: {chi2_stat:.2f}\")\n",
        "print(f\"P-Value: {p_val_chi:.4f}\")\n",
        "print(f\"Degrees of Freedom: {dof}\")\n",
        "print(\"\\nExpected Frequencies:\\n\", pd.DataFrame(expected, index=contingency.index, columns=contingency.columns))\n"
      ],
      "metadata": {
        "colab": {
          "base_uri": "https://localhost:8080/"
        },
        "id": "QNv0k4CHca0Z",
        "outputId": "64d17948-9ec0-49f0-d888-545bc930fb08"
      },
      "id": "QNv0k4CHca0Z",
      "execution_count": null,
      "outputs": [
        {
          "output_type": "stream",
          "name": "stdout",
          "text": [
            "Contingency Table:\n",
            " Group   Control  Treatment\n",
            "Region                    \n",
            "A            23         23\n",
            "B            27         27\n",
            "C            23         23\n",
            "D            26         28\n",
            "\n",
            "Chi2 Statistic: 0.05\n",
            "P-Value: 0.9967\n",
            "Degrees of Freedom: 3\n",
            "\n",
            "Expected Frequencies:\n",
            " Group   Control  Treatment\n",
            "Region                    \n",
            "A         22.77      23.23\n",
            "B         26.73      27.27\n",
            "C         22.77      23.23\n",
            "D         26.73      27.27\n"
          ]
        }
      ]
    }
  ],
  "metadata": {
    "colab": {
      "provenance": []
    },
    "language_info": {
      "name": "python"
    },
    "kernelspec": {
      "name": "python3",
      "display_name": "Python 3"
    }
  },
  "nbformat": 4,
  "nbformat_minor": 5
}